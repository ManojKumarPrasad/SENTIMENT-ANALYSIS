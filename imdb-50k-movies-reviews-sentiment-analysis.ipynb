{
 "cells": [
  {
   "cell_type": "code",
   "execution_count": 1,
   "id": "0356047d",
   "metadata": {
    "_cell_guid": "b1076dfc-b9ad-4769-8c92-a6c4dae69d19",
    "_uuid": "8f2839f25d086af736a60e9eeb907d3b93b6e0e5",
    "execution": {
     "iopub.execute_input": "2024-05-09T17:34:45.032532Z",
     "iopub.status.busy": "2024-05-09T17:34:45.032256Z",
     "iopub.status.idle": "2024-05-09T17:34:45.868151Z",
     "shell.execute_reply": "2024-05-09T17:34:45.867242Z"
    },
    "papermill": {
     "duration": 0.849362,
     "end_time": "2024-05-09T17:34:45.870380",
     "exception": false,
     "start_time": "2024-05-09T17:34:45.021018",
     "status": "completed"
    },
    "tags": []
   },
   "outputs": [
    {
     "name": "stdout",
     "output_type": "stream",
     "text": [
      "/kaggle/input/imdb-dataset-of-50k-movie-reviews/IMDB Dataset.csv\n"
     ]
    }
   ],
   "source": [
    "# This Python 3 environment comes with many helpful analytics libraries installed\n",
    "# It is defined by the kaggle/python Docker image: https://github.com/kaggle/docker-python\n",
    "# For example, here's several helpful packages to load\n",
    "\n",
    "import numpy as np # linear algebra\n",
    "import pandas as pd # data processing, CSV file I/O (e.g. pd.read_csv)\n",
    "\n",
    "# Input data files are available in the read-only \"../input/\" directory\n",
    "# For example, running this (by clicking run or pressing Shift+Enter) will list all files under the input directory\n",
    "\n",
    "import os\n",
    "for dirname, _, filenames in os.walk('/kaggle/input'):\n",
    "    for filename in filenames:\n",
    "        print(os.path.join(dirname, filename))\n",
    "\n",
    "# You can write up to 20GB to the current directory (/kaggle/working/) that gets preserved as output when you create a version using \"Save & Run All\" \n",
    "# You can also write temporary files to /kaggle/temp/, but they won't be saved outside of the current session"
   ]
  },
  {
   "cell_type": "code",
   "execution_count": 2,
   "id": "a9f3c814",
   "metadata": {
    "execution": {
     "iopub.execute_input": "2024-05-09T17:34:45.891366Z",
     "iopub.status.busy": "2024-05-09T17:34:45.891003Z",
     "iopub.status.idle": "2024-05-09T17:34:47.569764Z",
     "shell.execute_reply": "2024-05-09T17:34:47.568893Z"
    },
    "papermill": {
     "duration": 1.692096,
     "end_time": "2024-05-09T17:34:47.572438",
     "exception": false,
     "start_time": "2024-05-09T17:34:45.880342",
     "status": "completed"
    },
    "tags": []
   },
   "outputs": [],
   "source": [
    "df = pd.read_csv(\"/kaggle/input/imdb-dataset-of-50k-movie-reviews/IMDB Dataset.csv\")"
   ]
  },
  {
   "cell_type": "code",
   "execution_count": 3,
   "id": "674294c8",
   "metadata": {
    "execution": {
     "iopub.execute_input": "2024-05-09T17:34:47.595186Z",
     "iopub.status.busy": "2024-05-09T17:34:47.594840Z",
     "iopub.status.idle": "2024-05-09T17:34:47.612370Z",
     "shell.execute_reply": "2024-05-09T17:34:47.611568Z"
    },
    "papermill": {
     "duration": 0.030724,
     "end_time": "2024-05-09T17:34:47.614347",
     "exception": false,
     "start_time": "2024-05-09T17:34:47.583623",
     "status": "completed"
    },
    "tags": []
   },
   "outputs": [
    {
     "data": {
      "text/html": [
       "<div>\n",
       "<style scoped>\n",
       "    .dataframe tbody tr th:only-of-type {\n",
       "        vertical-align: middle;\n",
       "    }\n",
       "\n",
       "    .dataframe tbody tr th {\n",
       "        vertical-align: top;\n",
       "    }\n",
       "\n",
       "    .dataframe thead th {\n",
       "        text-align: right;\n",
       "    }\n",
       "</style>\n",
       "<table border=\"1\" class=\"dataframe\">\n",
       "  <thead>\n",
       "    <tr style=\"text-align: right;\">\n",
       "      <th></th>\n",
       "      <th>review</th>\n",
       "      <th>sentiment</th>\n",
       "    </tr>\n",
       "  </thead>\n",
       "  <tbody>\n",
       "    <tr>\n",
       "      <th>0</th>\n",
       "      <td>One of the other reviewers has mentioned that ...</td>\n",
       "      <td>positive</td>\n",
       "    </tr>\n",
       "    <tr>\n",
       "      <th>1</th>\n",
       "      <td>A wonderful little production. &lt;br /&gt;&lt;br /&gt;The...</td>\n",
       "      <td>positive</td>\n",
       "    </tr>\n",
       "    <tr>\n",
       "      <th>2</th>\n",
       "      <td>I thought this was a wonderful way to spend ti...</td>\n",
       "      <td>positive</td>\n",
       "    </tr>\n",
       "    <tr>\n",
       "      <th>3</th>\n",
       "      <td>Basically there's a family where a little boy ...</td>\n",
       "      <td>negative</td>\n",
       "    </tr>\n",
       "    <tr>\n",
       "      <th>4</th>\n",
       "      <td>Petter Mattei's \"Love in the Time of Money\" is...</td>\n",
       "      <td>positive</td>\n",
       "    </tr>\n",
       "  </tbody>\n",
       "</table>\n",
       "</div>"
      ],
      "text/plain": [
       "                                              review sentiment\n",
       "0  One of the other reviewers has mentioned that ...  positive\n",
       "1  A wonderful little production. <br /><br />The...  positive\n",
       "2  I thought this was a wonderful way to spend ti...  positive\n",
       "3  Basically there's a family where a little boy ...  negative\n",
       "4  Petter Mattei's \"Love in the Time of Money\" is...  positive"
      ]
     },
     "execution_count": 3,
     "metadata": {},
     "output_type": "execute_result"
    }
   ],
   "source": [
    "df.head()"
   ]
  },
  {
   "cell_type": "code",
   "execution_count": 4,
   "id": "076d7502",
   "metadata": {
    "execution": {
     "iopub.execute_input": "2024-05-09T17:34:47.634952Z",
     "iopub.status.busy": "2024-05-09T17:34:47.634671Z",
     "iopub.status.idle": "2024-05-09T17:34:47.639789Z",
     "shell.execute_reply": "2024-05-09T17:34:47.639016Z"
    },
    "papermill": {
     "duration": 0.017423,
     "end_time": "2024-05-09T17:34:47.641720",
     "exception": false,
     "start_time": "2024-05-09T17:34:47.624297",
     "status": "completed"
    },
    "tags": []
   },
   "outputs": [
    {
     "data": {
      "text/plain": [
       "(50000, 2)"
      ]
     },
     "execution_count": 4,
     "metadata": {},
     "output_type": "execute_result"
    }
   ],
   "source": [
    "df.shape"
   ]
  },
  {
   "cell_type": "code",
   "execution_count": 5,
   "id": "f032ea31",
   "metadata": {
    "execution": {
     "iopub.execute_input": "2024-05-09T17:34:47.662925Z",
     "iopub.status.busy": "2024-05-09T17:34:47.662341Z",
     "iopub.status.idle": "2024-05-09T17:34:47.680001Z",
     "shell.execute_reply": "2024-05-09T17:34:47.679192Z"
    },
    "papermill": {
     "duration": 0.030228,
     "end_time": "2024-05-09T17:34:47.681823",
     "exception": false,
     "start_time": "2024-05-09T17:34:47.651595",
     "status": "completed"
    },
    "tags": []
   },
   "outputs": [
    {
     "data": {
      "text/plain": [
       "review       0\n",
       "sentiment    0\n",
       "dtype: int64"
      ]
     },
     "execution_count": 5,
     "metadata": {},
     "output_type": "execute_result"
    }
   ],
   "source": [
    "df.isnull().sum()"
   ]
  },
  {
   "cell_type": "code",
   "execution_count": 6,
   "id": "82b90ddc",
   "metadata": {
    "execution": {
     "iopub.execute_input": "2024-05-09T17:34:47.703513Z",
     "iopub.status.busy": "2024-05-09T17:34:47.703278Z",
     "iopub.status.idle": "2024-05-09T17:34:47.876564Z",
     "shell.execute_reply": "2024-05-09T17:34:47.875665Z"
    },
    "papermill": {
     "duration": 0.18602,
     "end_time": "2024-05-09T17:34:47.878643",
     "exception": false,
     "start_time": "2024-05-09T17:34:47.692623",
     "status": "completed"
    },
    "tags": []
   },
   "outputs": [
    {
     "data": {
      "text/plain": [
       "418"
      ]
     },
     "execution_count": 6,
     "metadata": {},
     "output_type": "execute_result"
    }
   ],
   "source": [
    "df.duplicated().sum()"
   ]
  },
  {
   "cell_type": "code",
   "execution_count": 7,
   "id": "496df68a",
   "metadata": {
    "execution": {
     "iopub.execute_input": "2024-05-09T17:34:47.901893Z",
     "iopub.status.busy": "2024-05-09T17:34:47.901624Z",
     "iopub.status.idle": "2024-05-09T17:34:48.053270Z",
     "shell.execute_reply": "2024-05-09T17:34:48.052388Z"
    },
    "papermill": {
     "duration": 0.164891,
     "end_time": "2024-05-09T17:34:48.055269",
     "exception": false,
     "start_time": "2024-05-09T17:34:47.890378",
     "status": "completed"
    },
    "tags": []
   },
   "outputs": [],
   "source": [
    "df.drop_duplicates(inplace=True)"
   ]
  },
  {
   "cell_type": "code",
   "execution_count": 8,
   "id": "7173a4db",
   "metadata": {
    "execution": {
     "iopub.execute_input": "2024-05-09T17:34:48.077351Z",
     "iopub.status.busy": "2024-05-09T17:34:48.076770Z",
     "iopub.status.idle": "2024-05-09T17:34:48.086775Z",
     "shell.execute_reply": "2024-05-09T17:34:48.085884Z"
    },
    "papermill": {
     "duration": 0.023085,
     "end_time": "2024-05-09T17:34:48.088784",
     "exception": false,
     "start_time": "2024-05-09T17:34:48.065699",
     "status": "completed"
    },
    "tags": []
   },
   "outputs": [
    {
     "data": {
      "text/html": [
       "<div>\n",
       "<style scoped>\n",
       "    .dataframe tbody tr th:only-of-type {\n",
       "        vertical-align: middle;\n",
       "    }\n",
       "\n",
       "    .dataframe tbody tr th {\n",
       "        vertical-align: top;\n",
       "    }\n",
       "\n",
       "    .dataframe thead th {\n",
       "        text-align: right;\n",
       "    }\n",
       "</style>\n",
       "<table border=\"1\" class=\"dataframe\">\n",
       "  <thead>\n",
       "    <tr style=\"text-align: right;\">\n",
       "      <th></th>\n",
       "      <th>review</th>\n",
       "      <th>sentiment</th>\n",
       "    </tr>\n",
       "  </thead>\n",
       "  <tbody>\n",
       "    <tr>\n",
       "      <th>0</th>\n",
       "      <td>One of the other reviewers has mentioned that ...</td>\n",
       "      <td>positive</td>\n",
       "    </tr>\n",
       "    <tr>\n",
       "      <th>1</th>\n",
       "      <td>A wonderful little production. &lt;br /&gt;&lt;br /&gt;The...</td>\n",
       "      <td>positive</td>\n",
       "    </tr>\n",
       "    <tr>\n",
       "      <th>2</th>\n",
       "      <td>I thought this was a wonderful way to spend ti...</td>\n",
       "      <td>positive</td>\n",
       "    </tr>\n",
       "    <tr>\n",
       "      <th>3</th>\n",
       "      <td>Basically there's a family where a little boy ...</td>\n",
       "      <td>negative</td>\n",
       "    </tr>\n",
       "    <tr>\n",
       "      <th>4</th>\n",
       "      <td>Petter Mattei's \"Love in the Time of Money\" is...</td>\n",
       "      <td>positive</td>\n",
       "    </tr>\n",
       "    <tr>\n",
       "      <th>...</th>\n",
       "      <td>...</td>\n",
       "      <td>...</td>\n",
       "    </tr>\n",
       "    <tr>\n",
       "      <th>49995</th>\n",
       "      <td>I thought this movie did a down right good job...</td>\n",
       "      <td>positive</td>\n",
       "    </tr>\n",
       "    <tr>\n",
       "      <th>49996</th>\n",
       "      <td>Bad plot, bad dialogue, bad acting, idiotic di...</td>\n",
       "      <td>negative</td>\n",
       "    </tr>\n",
       "    <tr>\n",
       "      <th>49997</th>\n",
       "      <td>I am a Catholic taught in parochial elementary...</td>\n",
       "      <td>negative</td>\n",
       "    </tr>\n",
       "    <tr>\n",
       "      <th>49998</th>\n",
       "      <td>I'm going to have to disagree with the previou...</td>\n",
       "      <td>negative</td>\n",
       "    </tr>\n",
       "    <tr>\n",
       "      <th>49999</th>\n",
       "      <td>No one expects the Star Trek movies to be high...</td>\n",
       "      <td>negative</td>\n",
       "    </tr>\n",
       "  </tbody>\n",
       "</table>\n",
       "<p>49582 rows × 2 columns</p>\n",
       "</div>"
      ],
      "text/plain": [
       "                                                  review sentiment\n",
       "0      One of the other reviewers has mentioned that ...  positive\n",
       "1      A wonderful little production. <br /><br />The...  positive\n",
       "2      I thought this was a wonderful way to spend ti...  positive\n",
       "3      Basically there's a family where a little boy ...  negative\n",
       "4      Petter Mattei's \"Love in the Time of Money\" is...  positive\n",
       "...                                                  ...       ...\n",
       "49995  I thought this movie did a down right good job...  positive\n",
       "49996  Bad plot, bad dialogue, bad acting, idiotic di...  negative\n",
       "49997  I am a Catholic taught in parochial elementary...  negative\n",
       "49998  I'm going to have to disagree with the previou...  negative\n",
       "49999  No one expects the Star Trek movies to be high...  negative\n",
       "\n",
       "[49582 rows x 2 columns]"
      ]
     },
     "execution_count": 8,
     "metadata": {},
     "output_type": "execute_result"
    }
   ],
   "source": [
    "df"
   ]
  },
  {
   "cell_type": "code",
   "execution_count": 9,
   "id": "cdc0cdbd",
   "metadata": {
    "execution": {
     "iopub.execute_input": "2024-05-09T17:34:48.110684Z",
     "iopub.status.busy": "2024-05-09T17:34:48.110423Z",
     "iopub.status.idle": "2024-05-09T17:34:48.150852Z",
     "shell.execute_reply": "2024-05-09T17:34:48.150013Z"
    },
    "papermill": {
     "duration": 0.053347,
     "end_time": "2024-05-09T17:34:48.152709",
     "exception": false,
     "start_time": "2024-05-09T17:34:48.099362",
     "status": "completed"
    },
    "tags": []
   },
   "outputs": [
    {
     "name": "stderr",
     "output_type": "stream",
     "text": [
      "/tmp/ipykernel_24/3452091296.py:1: FutureWarning: Downcasting behavior in `replace` is deprecated and will be removed in a future version. To retain the old behavior, explicitly call `result.infer_objects(copy=False)`. To opt-in to the future behavior, set `pd.set_option('future.no_silent_downcasting', True)`\n",
      "  df['sentiment'] = df['sentiment'].replace({'positive': 1, 'negative': 0}).infer_objects(copy=False)\n"
     ]
    }
   ],
   "source": [
    "df['sentiment'] = df['sentiment'].replace({'positive': 1, 'negative': 0}).infer_objects(copy=False)"
   ]
  },
  {
   "cell_type": "code",
   "execution_count": 10,
   "id": "14a65a60",
   "metadata": {
    "execution": {
     "iopub.execute_input": "2024-05-09T17:34:48.175886Z",
     "iopub.status.busy": "2024-05-09T17:34:48.175295Z",
     "iopub.status.idle": "2024-05-09T17:34:48.183559Z",
     "shell.execute_reply": "2024-05-09T17:34:48.182770Z"
    },
    "papermill": {
     "duration": 0.022368,
     "end_time": "2024-05-09T17:34:48.185483",
     "exception": false,
     "start_time": "2024-05-09T17:34:48.163115",
     "status": "completed"
    },
    "tags": []
   },
   "outputs": [
    {
     "data": {
      "text/html": [
       "<div>\n",
       "<style scoped>\n",
       "    .dataframe tbody tr th:only-of-type {\n",
       "        vertical-align: middle;\n",
       "    }\n",
       "\n",
       "    .dataframe tbody tr th {\n",
       "        vertical-align: top;\n",
       "    }\n",
       "\n",
       "    .dataframe thead th {\n",
       "        text-align: right;\n",
       "    }\n",
       "</style>\n",
       "<table border=\"1\" class=\"dataframe\">\n",
       "  <thead>\n",
       "    <tr style=\"text-align: right;\">\n",
       "      <th></th>\n",
       "      <th>review</th>\n",
       "      <th>sentiment</th>\n",
       "    </tr>\n",
       "  </thead>\n",
       "  <tbody>\n",
       "    <tr>\n",
       "      <th>0</th>\n",
       "      <td>One of the other reviewers has mentioned that ...</td>\n",
       "      <td>1</td>\n",
       "    </tr>\n",
       "    <tr>\n",
       "      <th>1</th>\n",
       "      <td>A wonderful little production. &lt;br /&gt;&lt;br /&gt;The...</td>\n",
       "      <td>1</td>\n",
       "    </tr>\n",
       "    <tr>\n",
       "      <th>2</th>\n",
       "      <td>I thought this was a wonderful way to spend ti...</td>\n",
       "      <td>1</td>\n",
       "    </tr>\n",
       "    <tr>\n",
       "      <th>3</th>\n",
       "      <td>Basically there's a family where a little boy ...</td>\n",
       "      <td>0</td>\n",
       "    </tr>\n",
       "    <tr>\n",
       "      <th>4</th>\n",
       "      <td>Petter Mattei's \"Love in the Time of Money\" is...</td>\n",
       "      <td>1</td>\n",
       "    </tr>\n",
       "  </tbody>\n",
       "</table>\n",
       "</div>"
      ],
      "text/plain": [
       "                                              review  sentiment\n",
       "0  One of the other reviewers has mentioned that ...          1\n",
       "1  A wonderful little production. <br /><br />The...          1\n",
       "2  I thought this was a wonderful way to spend ti...          1\n",
       "3  Basically there's a family where a little boy ...          0\n",
       "4  Petter Mattei's \"Love in the Time of Money\" is...          1"
      ]
     },
     "execution_count": 10,
     "metadata": {},
     "output_type": "execute_result"
    }
   ],
   "source": [
    "df.head()"
   ]
  },
  {
   "cell_type": "code",
   "execution_count": 11,
   "id": "99ea280e",
   "metadata": {
    "execution": {
     "iopub.execute_input": "2024-05-09T17:34:48.207631Z",
     "iopub.status.busy": "2024-05-09T17:34:48.207384Z",
     "iopub.status.idle": "2024-05-09T17:34:48.219822Z",
     "shell.execute_reply": "2024-05-09T17:34:48.218967Z"
    },
    "papermill": {
     "duration": 0.025556,
     "end_time": "2024-05-09T17:34:48.221635",
     "exception": false,
     "start_time": "2024-05-09T17:34:48.196079",
     "status": "completed"
    },
    "tags": []
   },
   "outputs": [
    {
     "data": {
      "text/plain": [
       "sentiment\n",
       "1    24884\n",
       "0    24698\n",
       "Name: count, dtype: int64"
      ]
     },
     "execution_count": 11,
     "metadata": {},
     "output_type": "execute_result"
    }
   ],
   "source": [
    "df['sentiment'].value_counts()"
   ]
  },
  {
   "cell_type": "markdown",
   "id": "9ac6f56c",
   "metadata": {
    "papermill": {
     "duration": 0.010736,
     "end_time": "2024-05-09T17:34:48.243210",
     "exception": false,
     "start_time": "2024-05-09T17:34:48.232474",
     "status": "completed"
    },
    "tags": []
   },
   "source": [
    "<!-- Text Cleaning\n",
    "    Remove html tags\n",
    "    remove special characters\n",
    "    converting every thing to lower case \n",
    "    removing stop words\n",
    "    stemming -->"
   ]
  },
  {
   "cell_type": "code",
   "execution_count": 12,
   "id": "df482e85",
   "metadata": {
    "execution": {
     "iopub.execute_input": "2024-05-09T17:34:48.265946Z",
     "iopub.status.busy": "2024-05-09T17:34:48.265422Z",
     "iopub.status.idle": "2024-05-09T17:34:48.269068Z",
     "shell.execute_reply": "2024-05-09T17:34:48.268267Z"
    },
    "papermill": {
     "duration": 0.016667,
     "end_time": "2024-05-09T17:34:48.270829",
     "exception": false,
     "start_time": "2024-05-09T17:34:48.254162",
     "status": "completed"
    },
    "tags": []
   },
   "outputs": [],
   "source": [
    "# Text Cleaning\n",
    "#     Remove html tags\n",
    "#     remove special characters\n",
    "#     converting every thing to lower case \n",
    "#     removing stop words\n",
    "#     stemming"
   ]
  },
  {
   "cell_type": "code",
   "execution_count": 13,
   "id": "576c33ae",
   "metadata": {
    "execution": {
     "iopub.execute_input": "2024-05-09T17:34:48.294802Z",
     "iopub.status.busy": "2024-05-09T17:34:48.294144Z",
     "iopub.status.idle": "2024-05-09T17:34:50.263308Z",
     "shell.execute_reply": "2024-05-09T17:34:50.262533Z"
    },
    "papermill": {
     "duration": 1.983901,
     "end_time": "2024-05-09T17:34:50.265503",
     "exception": false,
     "start_time": "2024-05-09T17:34:48.281602",
     "status": "completed"
    },
    "tags": []
   },
   "outputs": [],
   "source": [
    "import re\n",
    "from bs4 import BeautifulSoup\n",
    "from nltk.corpus import stopwords\n",
    "from nltk.stem import PorterStemmer\n",
    "\n",
    "def preprocess_text(text):\n",
    "    # Remove HTML tags\n",
    "    text = BeautifulSoup(text, \"html.parser\").get_text()\n",
    "    \n",
    "    # Remove special characters\n",
    "    text = re.sub(r'[^a-zA-Z0-9\\s]', '', text)\n",
    "    \n",
    "    # Convert to lowercase\n",
    "    text = text.lower()\n",
    "    \n",
    "    # Remove stop words\n",
    "    stop_words = set(stopwords.words('english'))\n",
    "    words = text.split()\n",
    "    filtered_words = [word for word in words if word not in stop_words]\n",
    "    text = ' '.join(filtered_words)\n",
    "    \n",
    "    # Stemming\n",
    "    stemmer = PorterStemmer()\n",
    "    stemmed_text = ' '.join([stemmer.stem(word) for word in text.split()])\n",
    "    \n",
    "    return stemmed_text\n",
    "\n"
   ]
  },
  {
   "cell_type": "code",
   "execution_count": 14,
   "id": "03100c23",
   "metadata": {
    "execution": {
     "iopub.execute_input": "2024-05-09T17:34:50.290328Z",
     "iopub.status.busy": "2024-05-09T17:34:50.289469Z",
     "iopub.status.idle": "2024-05-09T17:34:50.300051Z",
     "shell.execute_reply": "2024-05-09T17:34:50.299149Z"
    },
    "papermill": {
     "duration": 0.024967,
     "end_time": "2024-05-09T17:34:50.302016",
     "exception": false,
     "start_time": "2024-05-09T17:34:50.277049",
     "status": "completed"
    },
    "tags": []
   },
   "outputs": [
    {
     "name": "stdout",
     "output_type": "stream",
     "text": [
      "hello world html text\n"
     ]
    }
   ],
   "source": [
    "html_text = \"<p>Hello <b>world</b>! This is <i>HTML</i> text.</p>\"\n",
    "cleaned_text = preprocess_text(html_text)\n",
    "print(cleaned_text)"
   ]
  },
  {
   "cell_type": "code",
   "execution_count": 15,
   "id": "7260d45a",
   "metadata": {
    "execution": {
     "iopub.execute_input": "2024-05-09T17:34:50.325680Z",
     "iopub.status.busy": "2024-05-09T17:34:50.325148Z",
     "iopub.status.idle": "2024-05-09T17:38:39.964470Z",
     "shell.execute_reply": "2024-05-09T17:38:39.963576Z"
    },
    "papermill": {
     "duration": 229.653683,
     "end_time": "2024-05-09T17:38:39.966787",
     "exception": false,
     "start_time": "2024-05-09T17:34:50.313104",
     "status": "completed"
    },
    "tags": []
   },
   "outputs": [
    {
     "name": "stderr",
     "output_type": "stream",
     "text": [
      "/tmp/ipykernel_24/2617301599.py:8: MarkupResemblesLocatorWarning: The input looks more like a filename than markup. You may want to open this file and pass the filehandle into Beautiful Soup.\n",
      "  text = BeautifulSoup(text, \"html.parser\").get_text()\n"
     ]
    }
   ],
   "source": [
    "df['review'] = df['review'].apply(preprocess_text)"
   ]
  },
  {
   "cell_type": "code",
   "execution_count": 16,
   "id": "f20703ad",
   "metadata": {
    "execution": {
     "iopub.execute_input": "2024-05-09T17:38:39.992144Z",
     "iopub.status.busy": "2024-05-09T17:38:39.991801Z",
     "iopub.status.idle": "2024-05-09T17:38:40.001072Z",
     "shell.execute_reply": "2024-05-09T17:38:40.000203Z"
    },
    "papermill": {
     "duration": 0.02481,
     "end_time": "2024-05-09T17:38:40.003386",
     "exception": false,
     "start_time": "2024-05-09T17:38:39.978576",
     "status": "completed"
    },
    "tags": []
   },
   "outputs": [
    {
     "data": {
      "text/html": [
       "<div>\n",
       "<style scoped>\n",
       "    .dataframe tbody tr th:only-of-type {\n",
       "        vertical-align: middle;\n",
       "    }\n",
       "\n",
       "    .dataframe tbody tr th {\n",
       "        vertical-align: top;\n",
       "    }\n",
       "\n",
       "    .dataframe thead th {\n",
       "        text-align: right;\n",
       "    }\n",
       "</style>\n",
       "<table border=\"1\" class=\"dataframe\">\n",
       "  <thead>\n",
       "    <tr style=\"text-align: right;\">\n",
       "      <th></th>\n",
       "      <th>review</th>\n",
       "      <th>sentiment</th>\n",
       "    </tr>\n",
       "  </thead>\n",
       "  <tbody>\n",
       "    <tr>\n",
       "      <th>0</th>\n",
       "      <td>one review mention watch 1 oz episod youll hoo...</td>\n",
       "      <td>1</td>\n",
       "    </tr>\n",
       "    <tr>\n",
       "      <th>1</th>\n",
       "      <td>wonder littl product film techniqu unassum old...</td>\n",
       "      <td>1</td>\n",
       "    </tr>\n",
       "    <tr>\n",
       "      <th>2</th>\n",
       "      <td>thought wonder way spend time hot summer weeke...</td>\n",
       "      <td>1</td>\n",
       "    </tr>\n",
       "    <tr>\n",
       "      <th>3</th>\n",
       "      <td>basic there famili littl boy jake think there ...</td>\n",
       "      <td>0</td>\n",
       "    </tr>\n",
       "    <tr>\n",
       "      <th>4</th>\n",
       "      <td>petter mattei love time money visual stun film...</td>\n",
       "      <td>1</td>\n",
       "    </tr>\n",
       "  </tbody>\n",
       "</table>\n",
       "</div>"
      ],
      "text/plain": [
       "                                              review  sentiment\n",
       "0  one review mention watch 1 oz episod youll hoo...          1\n",
       "1  wonder littl product film techniqu unassum old...          1\n",
       "2  thought wonder way spend time hot summer weeke...          1\n",
       "3  basic there famili littl boy jake think there ...          0\n",
       "4  petter mattei love time money visual stun film...          1"
      ]
     },
     "execution_count": 16,
     "metadata": {},
     "output_type": "execute_result"
    }
   ],
   "source": [
    "df.head()"
   ]
  },
  {
   "cell_type": "code",
   "execution_count": 17,
   "id": "bf138d5c",
   "metadata": {
    "execution": {
     "iopub.execute_input": "2024-05-09T17:38:40.027183Z",
     "iopub.status.busy": "2024-05-09T17:38:40.026935Z",
     "iopub.status.idle": "2024-05-09T17:38:40.031073Z",
     "shell.execute_reply": "2024-05-09T17:38:40.030263Z"
    },
    "papermill": {
     "duration": 0.017892,
     "end_time": "2024-05-09T17:38:40.032957",
     "exception": false,
     "start_time": "2024-05-09T17:38:40.015065",
     "status": "completed"
    },
    "tags": []
   },
   "outputs": [],
   "source": [
    "from sklearn.feature_extraction.text import CountVectorizer,TfidfVectorizer\n",
    "tfidf = TfidfVectorizer(max_features=2500)\n",
    "# cv = CountVectorizer(max_features=3000)"
   ]
  },
  {
   "cell_type": "code",
   "execution_count": 18,
   "id": "7e9c7bfb",
   "metadata": {
    "execution": {
     "iopub.execute_input": "2024-05-09T17:38:40.056286Z",
     "iopub.status.busy": "2024-05-09T17:38:40.056033Z",
     "iopub.status.idle": "2024-05-09T17:38:48.265790Z",
     "shell.execute_reply": "2024-05-09T17:38:48.264966Z"
    },
    "papermill": {
     "duration": 8.224092,
     "end_time": "2024-05-09T17:38:48.268082",
     "exception": false,
     "start_time": "2024-05-09T17:38:40.043990",
     "status": "completed"
    },
    "tags": []
   },
   "outputs": [],
   "source": [
    "# X = cv.fit_transform(df['review']).toarray()\n",
    "X = tfidf.fit_transform(df['review']).toarray()"
   ]
  },
  {
   "cell_type": "code",
   "execution_count": 19,
   "id": "7021ab3c",
   "metadata": {
    "execution": {
     "iopub.execute_input": "2024-05-09T17:38:48.292235Z",
     "iopub.status.busy": "2024-05-09T17:38:48.291944Z",
     "iopub.status.idle": "2024-05-09T17:38:48.296298Z",
     "shell.execute_reply": "2024-05-09T17:38:48.295445Z"
    },
    "papermill": {
     "duration": 0.018618,
     "end_time": "2024-05-09T17:38:48.298132",
     "exception": false,
     "start_time": "2024-05-09T17:38:48.279514",
     "status": "completed"
    },
    "tags": []
   },
   "outputs": [],
   "source": [
    "y = df.iloc[:,-1].values"
   ]
  },
  {
   "cell_type": "code",
   "execution_count": 20,
   "id": "95d22c3b",
   "metadata": {
    "execution": {
     "iopub.execute_input": "2024-05-09T17:38:48.321026Z",
     "iopub.status.busy": "2024-05-09T17:38:48.320743Z",
     "iopub.status.idle": "2024-05-09T17:38:48.628254Z",
     "shell.execute_reply": "2024-05-09T17:38:48.627141Z"
    },
    "papermill": {
     "duration": 0.321609,
     "end_time": "2024-05-09T17:38:48.630728",
     "exception": false,
     "start_time": "2024-05-09T17:38:48.309119",
     "status": "completed"
    },
    "tags": []
   },
   "outputs": [],
   "source": [
    "from sklearn.model_selection import train_test_split\n",
    "X_train, X_test, y_train, y_test = train_test_split(X,y,test_size = 0.2)"
   ]
  },
  {
   "cell_type": "code",
   "execution_count": 21,
   "id": "b004d140",
   "metadata": {
    "execution": {
     "iopub.execute_input": "2024-05-09T17:38:48.654657Z",
     "iopub.status.busy": "2024-05-09T17:38:48.654371Z",
     "iopub.status.idle": "2024-05-09T17:38:48.659949Z",
     "shell.execute_reply": "2024-05-09T17:38:48.659131Z"
    },
    "papermill": {
     "duration": 0.01975,
     "end_time": "2024-05-09T17:38:48.661741",
     "exception": false,
     "start_time": "2024-05-09T17:38:48.641991",
     "status": "completed"
    },
    "tags": []
   },
   "outputs": [
    {
     "data": {
      "text/plain": [
       "(39665, 2500)"
      ]
     },
     "execution_count": 21,
     "metadata": {},
     "output_type": "execute_result"
    }
   ],
   "source": [
    "X_train.shape"
   ]
  },
  {
   "cell_type": "code",
   "execution_count": 22,
   "id": "11d418c8",
   "metadata": {
    "execution": {
     "iopub.execute_input": "2024-05-09T17:38:48.685916Z",
     "iopub.status.busy": "2024-05-09T17:38:48.685087Z",
     "iopub.status.idle": "2024-05-09T17:38:48.690456Z",
     "shell.execute_reply": "2024-05-09T17:38:48.689682Z"
    },
    "papermill": {
     "duration": 0.019147,
     "end_time": "2024-05-09T17:38:48.692249",
     "exception": false,
     "start_time": "2024-05-09T17:38:48.673102",
     "status": "completed"
    },
    "tags": []
   },
   "outputs": [
    {
     "data": {
      "text/plain": [
       "(9917, 2500)"
      ]
     },
     "execution_count": 22,
     "metadata": {},
     "output_type": "execute_result"
    }
   ],
   "source": [
    "X_test.shape"
   ]
  },
  {
   "cell_type": "code",
   "execution_count": 23,
   "id": "fcbf9192",
   "metadata": {
    "execution": {
     "iopub.execute_input": "2024-05-09T17:38:48.716552Z",
     "iopub.status.busy": "2024-05-09T17:38:48.716282Z",
     "iopub.status.idle": "2024-05-09T17:38:48.723263Z",
     "shell.execute_reply": "2024-05-09T17:38:48.722235Z"
    },
    "papermill": {
     "duration": 0.022168,
     "end_time": "2024-05-09T17:38:48.725723",
     "exception": false,
     "start_time": "2024-05-09T17:38:48.703555",
     "status": "completed"
    },
    "tags": []
   },
   "outputs": [],
   "source": [
    "from sklearn.naive_bayes import GaussianNB, MultinomialNB, BernoulliNB"
   ]
  },
  {
   "cell_type": "code",
   "execution_count": 24,
   "id": "81c61b57",
   "metadata": {
    "execution": {
     "iopub.execute_input": "2024-05-09T17:38:48.750880Z",
     "iopub.status.busy": "2024-05-09T17:38:48.750202Z",
     "iopub.status.idle": "2024-05-09T17:38:48.754098Z",
     "shell.execute_reply": "2024-05-09T17:38:48.753333Z"
    },
    "papermill": {
     "duration": 0.018692,
     "end_time": "2024-05-09T17:38:48.756053",
     "exception": false,
     "start_time": "2024-05-09T17:38:48.737361",
     "status": "completed"
    },
    "tags": []
   },
   "outputs": [],
   "source": [
    "GNB = GaussianNB()\n",
    "MNB =  MultinomialNB()\n",
    "BNB =  BernoulliNB()"
   ]
  },
  {
   "cell_type": "code",
   "execution_count": 25,
   "id": "06b5c9a0",
   "metadata": {
    "execution": {
     "iopub.execute_input": "2024-05-09T17:38:48.779858Z",
     "iopub.status.busy": "2024-05-09T17:38:48.779593Z",
     "iopub.status.idle": "2024-05-09T17:38:51.335581Z",
     "shell.execute_reply": "2024-05-09T17:38:51.334310Z"
    },
    "papermill": {
     "duration": 2.571577,
     "end_time": "2024-05-09T17:38:51.338998",
     "exception": false,
     "start_time": "2024-05-09T17:38:48.767421",
     "status": "completed"
    },
    "tags": []
   },
   "outputs": [
    {
     "data": {
      "text/html": [
       "<style>#sk-container-id-1 {color: black;background-color: white;}#sk-container-id-1 pre{padding: 0;}#sk-container-id-1 div.sk-toggleable {background-color: white;}#sk-container-id-1 label.sk-toggleable__label {cursor: pointer;display: block;width: 100%;margin-bottom: 0;padding: 0.3em;box-sizing: border-box;text-align: center;}#sk-container-id-1 label.sk-toggleable__label-arrow:before {content: \"▸\";float: left;margin-right: 0.25em;color: #696969;}#sk-container-id-1 label.sk-toggleable__label-arrow:hover:before {color: black;}#sk-container-id-1 div.sk-estimator:hover label.sk-toggleable__label-arrow:before {color: black;}#sk-container-id-1 div.sk-toggleable__content {max-height: 0;max-width: 0;overflow: hidden;text-align: left;background-color: #f0f8ff;}#sk-container-id-1 div.sk-toggleable__content pre {margin: 0.2em;color: black;border-radius: 0.25em;background-color: #f0f8ff;}#sk-container-id-1 input.sk-toggleable__control:checked~div.sk-toggleable__content {max-height: 200px;max-width: 100%;overflow: auto;}#sk-container-id-1 input.sk-toggleable__control:checked~label.sk-toggleable__label-arrow:before {content: \"▾\";}#sk-container-id-1 div.sk-estimator input.sk-toggleable__control:checked~label.sk-toggleable__label {background-color: #d4ebff;}#sk-container-id-1 div.sk-label input.sk-toggleable__control:checked~label.sk-toggleable__label {background-color: #d4ebff;}#sk-container-id-1 input.sk-hidden--visually {border: 0;clip: rect(1px 1px 1px 1px);clip: rect(1px, 1px, 1px, 1px);height: 1px;margin: -1px;overflow: hidden;padding: 0;position: absolute;width: 1px;}#sk-container-id-1 div.sk-estimator {font-family: monospace;background-color: #f0f8ff;border: 1px dotted black;border-radius: 0.25em;box-sizing: border-box;margin-bottom: 0.5em;}#sk-container-id-1 div.sk-estimator:hover {background-color: #d4ebff;}#sk-container-id-1 div.sk-parallel-item::after {content: \"\";width: 100%;border-bottom: 1px solid gray;flex-grow: 1;}#sk-container-id-1 div.sk-label:hover label.sk-toggleable__label {background-color: #d4ebff;}#sk-container-id-1 div.sk-serial::before {content: \"\";position: absolute;border-left: 1px solid gray;box-sizing: border-box;top: 0;bottom: 0;left: 50%;z-index: 0;}#sk-container-id-1 div.sk-serial {display: flex;flex-direction: column;align-items: center;background-color: white;padding-right: 0.2em;padding-left: 0.2em;position: relative;}#sk-container-id-1 div.sk-item {position: relative;z-index: 1;}#sk-container-id-1 div.sk-parallel {display: flex;align-items: stretch;justify-content: center;background-color: white;position: relative;}#sk-container-id-1 div.sk-item::before, #sk-container-id-1 div.sk-parallel-item::before {content: \"\";position: absolute;border-left: 1px solid gray;box-sizing: border-box;top: 0;bottom: 0;left: 50%;z-index: -1;}#sk-container-id-1 div.sk-parallel-item {display: flex;flex-direction: column;z-index: 1;position: relative;background-color: white;}#sk-container-id-1 div.sk-parallel-item:first-child::after {align-self: flex-end;width: 50%;}#sk-container-id-1 div.sk-parallel-item:last-child::after {align-self: flex-start;width: 50%;}#sk-container-id-1 div.sk-parallel-item:only-child::after {width: 0;}#sk-container-id-1 div.sk-dashed-wrapped {border: 1px dashed gray;margin: 0 0.4em 0.5em 0.4em;box-sizing: border-box;padding-bottom: 0.4em;background-color: white;}#sk-container-id-1 div.sk-label label {font-family: monospace;font-weight: bold;display: inline-block;line-height: 1.2em;}#sk-container-id-1 div.sk-label-container {text-align: center;}#sk-container-id-1 div.sk-container {/* jupyter's `normalize.less` sets `[hidden] { display: none; }` but bootstrap.min.css set `[hidden] { display: none !important; }` so we also need the `!important` here to be able to override the default hidden behavior on the sphinx rendered scikit-learn.org. See: https://github.com/scikit-learn/scikit-learn/issues/21755 */display: inline-block !important;position: relative;}#sk-container-id-1 div.sk-text-repr-fallback {display: none;}</style><div id=\"sk-container-id-1\" class=\"sk-top-container\"><div class=\"sk-text-repr-fallback\"><pre>BernoulliNB()</pre><b>In a Jupyter environment, please rerun this cell to show the HTML representation or trust the notebook. <br />On GitHub, the HTML representation is unable to render, please try loading this page with nbviewer.org.</b></div><div class=\"sk-container\" hidden><div class=\"sk-item\"><div class=\"sk-estimator sk-toggleable\"><input class=\"sk-toggleable__control sk-hidden--visually\" id=\"sk-estimator-id-1\" type=\"checkbox\" checked><label for=\"sk-estimator-id-1\" class=\"sk-toggleable__label sk-toggleable__label-arrow\">BernoulliNB</label><div class=\"sk-toggleable__content\"><pre>BernoulliNB()</pre></div></div></div></div></div>"
      ],
      "text/plain": [
       "BernoulliNB()"
      ]
     },
     "execution_count": 25,
     "metadata": {},
     "output_type": "execute_result"
    }
   ],
   "source": [
    "GNB.fit(X_train, y_train)\n",
    "MNB.fit(X_train, y_train)\n",
    "BNB.fit(X_train, y_train)"
   ]
  },
  {
   "cell_type": "code",
   "execution_count": 26,
   "id": "e99aac4b",
   "metadata": {
    "execution": {
     "iopub.execute_input": "2024-05-09T17:38:51.391078Z",
     "iopub.status.busy": "2024-05-09T17:38:51.390545Z",
     "iopub.status.idle": "2024-05-09T17:38:52.091114Z",
     "shell.execute_reply": "2024-05-09T17:38:52.089631Z"
    },
    "papermill": {
     "duration": 0.731436,
     "end_time": "2024-05-09T17:38:52.095305",
     "exception": false,
     "start_time": "2024-05-09T17:38:51.363869",
     "status": "completed"
    },
    "tags": []
   },
   "outputs": [],
   "source": [
    "y_pred1 = GNB.predict(X_test)\n",
    "y_pred2 = MNB.predict(X_test)\n",
    "y_pred3 = BNB.predict(X_test)"
   ]
  },
  {
   "cell_type": "code",
   "execution_count": 27,
   "id": "9dc95cbb",
   "metadata": {
    "execution": {
     "iopub.execute_input": "2024-05-09T17:38:52.148256Z",
     "iopub.status.busy": "2024-05-09T17:38:52.147711Z",
     "iopub.status.idle": "2024-05-09T17:38:52.153618Z",
     "shell.execute_reply": "2024-05-09T17:38:52.152422Z"
    },
    "papermill": {
     "duration": 0.03822,
     "end_time": "2024-05-09T17:38:52.159539",
     "exception": false,
     "start_time": "2024-05-09T17:38:52.121319",
     "status": "completed"
    },
    "tags": []
   },
   "outputs": [],
   "source": [
    "from sklearn.metrics import accuracy_score, precision_score"
   ]
  },
  {
   "cell_type": "code",
   "execution_count": 28,
   "id": "1f344b92",
   "metadata": {
    "execution": {
     "iopub.execute_input": "2024-05-09T17:38:52.211323Z",
     "iopub.status.busy": "2024-05-09T17:38:52.210832Z",
     "iopub.status.idle": "2024-05-09T17:38:52.231557Z",
     "shell.execute_reply": "2024-05-09T17:38:52.230478Z"
    },
    "papermill": {
     "duration": 0.049238,
     "end_time": "2024-05-09T17:38:52.233445",
     "exception": false,
     "start_time": "2024-05-09T17:38:52.184207",
     "status": "completed"
    },
    "tags": []
   },
   "outputs": [
    {
     "name": "stdout",
     "output_type": "stream",
     "text": [
      "GuassianNB 0.8011495411918927\n",
      "GuassianNB 0.7939516129032258\n",
      "MultinomialNB 0.8426943632146818\n",
      "MultinomialNB 0.8282051282051283\n",
      "BernoulliNB 0.8416859937481093\n",
      "BernoulliNB 0.8307416267942583\n"
     ]
    }
   ],
   "source": [
    "print(\"GuassianNB\", accuracy_score(y_test,y_pred1))\n",
    "print(\"GuassianNB\", precision_score(y_test,y_pred1))\n",
    "print(\"MultinomialNB\", accuracy_score(y_test,y_pred2))\n",
    "print(\"MultinomialNB\", precision_score(y_test,y_pred2))\n",
    "print(\"BernoulliNB\", accuracy_score(y_test,y_pred3))\n",
    "print(\"BernoulliNB\", precision_score(y_test,y_pred3))"
   ]
  },
  {
   "cell_type": "code",
   "execution_count": 29,
   "id": "eb786343",
   "metadata": {
    "execution": {
     "iopub.execute_input": "2024-05-09T17:38:52.257902Z",
     "iopub.status.busy": "2024-05-09T17:38:52.257634Z",
     "iopub.status.idle": "2024-05-09T17:38:52.261190Z",
     "shell.execute_reply": "2024-05-09T17:38:52.260346Z"
    },
    "papermill": {
     "duration": 0.017928,
     "end_time": "2024-05-09T17:38:52.263020",
     "exception": false,
     "start_time": "2024-05-09T17:38:52.245092",
     "status": "completed"
    },
    "tags": []
   },
   "outputs": [],
   "source": [
    "# checking singlemessage\n",
    "message =\"I'm so disappointed with the quality of this product.\"\n",
    "\n"
   ]
  },
  {
   "cell_type": "code",
   "execution_count": 30,
   "id": "64f410c5",
   "metadata": {
    "execution": {
     "iopub.execute_input": "2024-05-09T17:38:52.288409Z",
     "iopub.status.busy": "2024-05-09T17:38:52.287726Z",
     "iopub.status.idle": "2024-05-09T17:38:52.293019Z",
     "shell.execute_reply": "2024-05-09T17:38:52.292023Z"
    },
    "papermill": {
     "duration": 0.02003,
     "end_time": "2024-05-09T17:38:52.294828",
     "exception": false,
     "start_time": "2024-05-09T17:38:52.274798",
     "status": "completed"
    },
    "tags": []
   },
   "outputs": [
    {
     "name": "stdout",
     "output_type": "stream",
     "text": [
      "im disappoint qualiti product\n"
     ]
    }
   ],
   "source": [
    "preprocessed_message = preprocess_text(message)\n",
    "print(preprocessed_message)"
   ]
  },
  {
   "cell_type": "code",
   "execution_count": 31,
   "id": "4aec4129",
   "metadata": {
    "execution": {
     "iopub.execute_input": "2024-05-09T17:38:52.320328Z",
     "iopub.status.busy": "2024-05-09T17:38:52.320069Z",
     "iopub.status.idle": "2024-05-09T17:38:52.325138Z",
     "shell.execute_reply": "2024-05-09T17:38:52.324354Z"
    },
    "papermill": {
     "duration": 0.020101,
     "end_time": "2024-05-09T17:38:52.327090",
     "exception": false,
     "start_time": "2024-05-09T17:38:52.306989",
     "status": "completed"
    },
    "tags": []
   },
   "outputs": [],
   "source": [
    "vector_input = tfidf.transform([preprocessed_message])\n"
   ]
  },
  {
   "cell_type": "code",
   "execution_count": 32,
   "id": "f379f8c1",
   "metadata": {
    "execution": {
     "iopub.execute_input": "2024-05-09T17:38:52.351442Z",
     "iopub.status.busy": "2024-05-09T17:38:52.351188Z",
     "iopub.status.idle": "2024-05-09T17:38:52.355883Z",
     "shell.execute_reply": "2024-05-09T17:38:52.355165Z"
    },
    "papermill": {
     "duration": 0.019148,
     "end_time": "2024-05-09T17:38:52.357828",
     "exception": false,
     "start_time": "2024-05-09T17:38:52.338680",
     "status": "completed"
    },
    "tags": []
   },
   "outputs": [],
   "source": [
    "result = BNB.predict(vector_input)\n"
   ]
  },
  {
   "cell_type": "code",
   "execution_count": 33,
   "id": "de47a3f3",
   "metadata": {
    "execution": {
     "iopub.execute_input": "2024-05-09T17:38:52.381961Z",
     "iopub.status.busy": "2024-05-09T17:38:52.381692Z",
     "iopub.status.idle": "2024-05-09T17:38:52.386038Z",
     "shell.execute_reply": "2024-05-09T17:38:52.385152Z"
    },
    "papermill": {
     "duration": 0.018842,
     "end_time": "2024-05-09T17:38:52.388261",
     "exception": false,
     "start_time": "2024-05-09T17:38:52.369419",
     "status": "completed"
    },
    "tags": []
   },
   "outputs": [
    {
     "name": "stdout",
     "output_type": "stream",
     "text": [
      "Negative\n"
     ]
    }
   ],
   "source": [
    "if result == 1:\n",
    "        print(\"Positive\")\n",
    "else:\n",
    "    print('Negative')"
   ]
  },
  {
   "cell_type": "code",
   "execution_count": null,
   "id": "8d40d081",
   "metadata": {
    "papermill": {
     "duration": 0.011602,
     "end_time": "2024-05-09T17:38:52.411711",
     "exception": false,
     "start_time": "2024-05-09T17:38:52.400109",
     "status": "completed"
    },
    "tags": []
   },
   "outputs": [],
   "source": []
  },
  {
   "cell_type": "code",
   "execution_count": 34,
   "id": "e31b8ee0",
   "metadata": {
    "execution": {
     "iopub.execute_input": "2024-05-09T17:38:52.436345Z",
     "iopub.status.busy": "2024-05-09T17:38:52.436079Z",
     "iopub.status.idle": "2024-05-09T17:38:52.495192Z",
     "shell.execute_reply": "2024-05-09T17:38:52.494346Z"
    },
    "papermill": {
     "duration": 0.074253,
     "end_time": "2024-05-09T17:38:52.497620",
     "exception": false,
     "start_time": "2024-05-09T17:38:52.423367",
     "status": "completed"
    },
    "tags": []
   },
   "outputs": [],
   "source": [
    "# saving the model\n",
    "import pickle\n",
    "pickle.dump(tfidf,open('vectorizer.pkl','wb'))\n",
    "pickle.dump(MNB,open('model.pkl','wb'))\n",
    "pickle.dump(preprocess_text, open('preprocess_text','wb'))"
   ]
  },
  {
   "cell_type": "code",
   "execution_count": null,
   "id": "ee0fa1cd",
   "metadata": {
    "papermill": {
     "duration": 0.011774,
     "end_time": "2024-05-09T17:38:52.521912",
     "exception": false,
     "start_time": "2024-05-09T17:38:52.510138",
     "status": "completed"
    },
    "tags": []
   },
   "outputs": [],
   "source": []
  }
 ],
 "metadata": {
  "kaggle": {
   "accelerator": "nvidiaTeslaT4",
   "dataSources": [
    {
     "datasetId": 134715,
     "sourceId": 320111,
     "sourceType": "datasetVersion"
    }
   ],
   "dockerImageVersionId": 30699,
   "isGpuEnabled": true,
   "isInternetEnabled": true,
   "language": "python",
   "sourceType": "notebook"
  },
  "kernelspec": {
   "display_name": "Python 3",
   "language": "python",
   "name": "python3"
  },
  "language_info": {
   "codemirror_mode": {
    "name": "ipython",
    "version": 3
   },
   "file_extension": ".py",
   "mimetype": "text/x-python",
   "name": "python",
   "nbconvert_exporter": "python",
   "pygments_lexer": "ipython3",
   "version": "3.10.13"
  },
  "papermill": {
   "default_parameters": {},
   "duration": 251.023841,
   "end_time": "2024-05-09T17:38:53.152906",
   "environment_variables": {},
   "exception": null,
   "input_path": "__notebook__.ipynb",
   "output_path": "__notebook__.ipynb",
   "parameters": {},
   "start_time": "2024-05-09T17:34:42.129065",
   "version": "2.5.0"
  }
 },
 "nbformat": 4,
 "nbformat_minor": 5
}
